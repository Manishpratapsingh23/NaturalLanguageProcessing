{
 "cells": [
  {
   "cell_type": "code",
   "execution_count": null,
   "id": "d89a855e",
   "metadata": {},
   "outputs": [
    {
     "name": "stderr",
     "output_type": "stream",
     "text": [
      "[nltk_data] Downloading package wordnet to\n",
      "[nltk_data]     C:\\Users\\manis\\AppData\\Roaming\\nltk_data...\n",
      "[nltk_data] Downloading package omw-1.4 to\n",
      "[nltk_data]     C:\\Users\\manis\\AppData\\Roaming\\nltk_data...\n",
      "[nltk_data] Downloading package punkt to\n",
      "[nltk_data]     C:\\Users\\manis\\AppData\\Roaming\\nltk_data...\n",
      "[nltk_data]   Unzipping tokenizers\\punkt.zip.\n"
     ]
    },
    {
     "data": {
      "text/plain": [
       "True"
      ]
     },
     "execution_count": 2,
     "metadata": {},
     "output_type": "execute_result"
    }
   ],
   "source": [
    "import random   # Random number generation\n",
    "import numpy as np  # Numerical operations\n",
    "import nltk # Natural Language Toolkit for text processing\n",
    "from nltk.corpus import wordnet    # WordNet for lexical relations mainly used for synonyms\n",
    "nltk.download('wordnet')    # Download WordNet data\n",
    "nltk.download('omw-1.4') # Download Open Multilingual WordNet for translations\n",
    "nltk.download('punkt') # Download Punkt tokenizer models for sentence splitting"
   ]
  },
  {
   "cell_type": "code",
   "execution_count": 3,
   "id": "a804d61b",
   "metadata": {},
   "outputs": [],
   "source": [
    "text = \"The Movie was absolutely fantastic and enjoyable\""
   ]
  },
  {
   "cell_type": "code",
   "execution_count": 4,
   "id": "a42a927c",
   "metadata": {},
   "outputs": [],
   "source": [
    "def get_synonyms(word):\n",
    "    \"\"\"Get synonyms for a given word using WordNet.\"\"\"\n",
    "    synonyms = set()  # Use a set to avoid duplicates\n",
    "    # Iterate through all synsets of the word\n",
    "    for syn in wordnet.synsets(word):\n",
    "        for lemma in syn.lemmas():\n",
    "            synonym = lemma.name().replace('_', ' ')  # Replace underscores with spaces for readability\n",
    "            if synonym.lower() != word.lower():  # Avoid adding the original word as a synonym\n",
    "                synonyms.add(lemma.name())\n",
    "    return list(synonyms)"
   ]
  },
  {
   "cell_type": "code",
   "execution_count": null,
   "id": "60916041",
   "metadata": {},
   "outputs": [],
   "source": []
  }
 ],
 "metadata": {
  "kernelspec": {
   "display_name": "Python 3",
   "language": "python",
   "name": "python3"
  },
  "language_info": {
   "codemirror_mode": {
    "name": "ipython",
    "version": 3
   },
   "file_extension": ".py",
   "mimetype": "text/x-python",
   "name": "python",
   "nbconvert_exporter": "python",
   "pygments_lexer": "ipython3",
   "version": "3.11.5"
  }
 },
 "nbformat": 4,
 "nbformat_minor": 5
}
