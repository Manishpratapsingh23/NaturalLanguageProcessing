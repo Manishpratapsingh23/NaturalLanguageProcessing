{
 "cells": [
  {
   "cell_type": "code",
   "execution_count": 18,
   "id": "d89a855e",
   "metadata": {},
   "outputs": [
    {
     "name": "stderr",
     "output_type": "stream",
     "text": [
      "[nltk_data] Downloading package wordnet to\n",
      "[nltk_data]     C:\\Users\\manis\\AppData\\Roaming\\nltk_data...\n",
      "[nltk_data]   Package wordnet is already up-to-date!\n",
      "[nltk_data] Downloading package omw-1.4 to\n",
      "[nltk_data]     C:\\Users\\manis\\AppData\\Roaming\\nltk_data...\n",
      "[nltk_data]   Package omw-1.4 is already up-to-date!\n",
      "[nltk_data] Downloading package punkt_tab to\n",
      "[nltk_data]     C:\\Users\\manis\\AppData\\Roaming\\nltk_data...\n",
      "[nltk_data]   Package punkt_tab is already up-to-date!\n"
     ]
    },
    {
     "data": {
      "text/plain": [
       "True"
      ]
     },
     "execution_count": 18,
     "metadata": {},
     "output_type": "execute_result"
    }
   ],
   "source": [
    "import random   # Random number generation\n",
    "import numpy as np  # Numerical operations\n",
    "import nltk # Natural Language Toolkit for text processing\n",
    "from nltk.corpus import wordnet    # WordNet for lexical relations mainly used for synonyms\n",
    "nltk.download('wordnet')    # Download WordNet data\n",
    "nltk.download('omw-1.4') # Download Open Multilingual WordNet for translations\n",
    "nltk.download('punkt_tab') # Download Punkt tokenizer models for sentence splitting"
   ]
  },
  {
   "cell_type": "code",
   "execution_count": 19,
   "id": "a804d61b",
   "metadata": {},
   "outputs": [],
   "source": [
    "text = \"The Movie was absolutely fantastic and enjoyable\""
   ]
  },
  {
   "cell_type": "code",
   "execution_count": 24,
   "id": "a42a927c",
   "metadata": {},
   "outputs": [],
   "source": [
    "def get_synonyms(word):\n",
    "    \"\"\"Get synonyms for a given word using WordNet.\"\"\"\n",
    "    synonyms = set()  # Use a set to avoid duplicates\n",
    "    # Iterate through all synsets of the word\n",
    "    for syn in wordnet.synsets(word):\n",
    "        for lemma in syn.lemmas():\n",
    "            synonym = lemma.name().replace('_', ' ')  # Replace underscores with spaces for readability\n",
    "            if synonym.lower() != word.lower():  # Avoid adding the original word as a synonym\n",
    "                synonyms.add(lemma.name())\n",
    "    return list(synonyms)"
   ]
  },
  {
   "cell_type": "code",
   "execution_count": 27,
   "id": "60916041",
   "metadata": {},
   "outputs": [],
   "source": [
    "def synonym_replacement(text, n=2):\n",
    "    words = nltk.word_tokenize(text) # Tokenize the text into words\n",
    "    new_words = words.copy()\n",
    "    random_word_list = [word for word in new_words if word.isalpha()]  # Filter out non-alphabetic words\n",
    "    random.shuffle(random_word_list)  # Shuffle the list to randomize selection\n",
    "    num_replaced = 0\n",
    "    for word in random_word_list:\n",
    "        synonyms = get_synonyms(word)\n",
    "        if len(synonyms) >= 1:\n",
    "            synonym = random.choice(synonyms)   # Randomly select a synonym\n",
    "            new_words = [synonym if w == word else w for w in new_words]\n",
    "            num_replaced += 1\n",
    "        if num_replaced >= n:  # Stop after replacing 'n' words\n",
    "            break\n",
    "    return ' '.join(new_words)  # Join the words back into a single string"
   ]
  },
  {
   "cell_type": "code",
   "execution_count": 29,
   "id": "c9dd504a",
   "metadata": {},
   "outputs": [
    {
     "name": "stdout",
     "output_type": "stream",
     "text": [
      "Original Text: The Movie was absolutely fantastic and enjoyable\n",
      "Augmented Text: The motion_picture personify absolutely fantastic and enjoyable\n"
     ]
    }
   ],
   "source": [
    "original = \"The Movie was absolutely fantastic and enjoyable\"\n",
    "augmented_text = synonym_replacement(original, n=2)  # Replace 2 words with synonyms\n",
    "print(\"Original Text:\", original)\n",
    "print(\"Augmented Text:\", augmented_text)"
   ]
  },
  {
   "cell_type": "code",
   "execution_count": 30,
   "id": "cc51a575",
   "metadata": {},
   "outputs": [],
   "source": [
    "def bigram_filp(text):\n",
    "    words = nltk.word_tokenize(text)  # Tokenize the text into words\n",
    "    new_words = words.copy()\n",
    "    indices = list(range(len(words)-1))\n",
    "    if not indices:\n",
    "        return text\n",
    "    filp_index = random.choice(indices)  # Randomly select an index to flip\n",
    "    new_words[filp_index], new_words[flip_index+1] = new_words[flip_index+1], new_words[flip_index]  # Swap the selected word with the next one\n",
    "    return ' '.join(new_words)  # Join the words back into a single string"
   ]
  }
 ],
 "metadata": {
  "kernelspec": {
   "display_name": "Python 3",
   "language": "python",
   "name": "python3"
  },
  "language_info": {
   "codemirror_mode": {
    "name": "ipython",
    "version": 3
   },
   "file_extension": ".py",
   "mimetype": "text/x-python",
   "name": "python",
   "nbconvert_exporter": "python",
   "pygments_lexer": "ipython3",
   "version": "3.11.5"
  }
 },
 "nbformat": 4,
 "nbformat_minor": 5
}
